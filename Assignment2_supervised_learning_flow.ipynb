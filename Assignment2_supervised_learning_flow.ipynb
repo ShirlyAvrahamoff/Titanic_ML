{
 "cells": [
  {
   "cell_type": "markdown",
   "id": "ec202ada",
   "metadata": {},
   "source": [
    "# Assignment2 - Supervised Learning flow"
   ]
  },
  {
   "cell_type": "markdown",
   "id": "b06a2810",
   "metadata": {},
   "source": [
    "## Part 1 - Student details:"
   ]
  },
  {
   "cell_type": "code",
   "execution_count": 2,
   "id": "ca16486b",
   "metadata": {},
   "outputs": [],
   "source": [
    "# student 1: Shirly 3061\n",
    "# student 2: Shani 7792"
   ]
  },
  {
   "cell_type": "markdown",
   "id": "df67c2ee-87c8-499c-a04f-1853c332f51d",
   "metadata": {},
   "source": [
    "## Part 2 - Initial Preparations "
   ]
  },
  {
   "cell_type": "markdown",
   "id": "a319933d",
   "metadata": {},
   "source": [
    "Import"
   ]
  },
  {
   "cell_type": "code",
   "execution_count": 3,
   "id": "b29b3454-b568-4614-8017-f15b3c59fc55",
   "metadata": {},
   "outputs": [],
   "source": [
    "import pandas as pd\n",
    "import numpy as np\n",
    "\n",
    "# Visualizations\n",
    "import matplotlib.pyplot as plt\n",
    "import seaborn as sns\n",
    "\n",
    "# Scaling\n",
    "from sklearn.preprocessing import StandardScaler\n",
    "from sklearn.preprocessing import MinMaxScaler\n",
    "\n",
    "# Models\n",
    "from sklearn.neighbors import KNeighborsClassifier\n",
    "from sklearn.linear_model import LogisticRegression\n",
    "from sklearn.tree import DecisionTreeClassifier\n",
    "from sklearn.ensemble import RandomForestClassifier, GradientBoostingClassifier\n",
    "from sklearn.svm import SVC\n",
    "from sklearn.model_selection import GridSearchCV, cross_val_score\n",
    "\n",
    "# Models Evaluation\n",
    "from sklearn.metrics import accuracy_score, precision_score, recall_score, f1_score, confusion_matrix\n",
    "from sklearn.metrics import confusion_matrix\n",
    "\n",
    "# Split the training data into training and validation sets \n",
    "from sklearn.model_selection import train_test_split\n",
    "\n",
    "\n"
   ]
  },
  {
   "cell_type": "markdown",
   "id": "9cb0a653",
   "metadata": {},
   "source": [
    "Load data"
   ]
  },
  {
   "cell_type": "code",
   "execution_count": null,
   "id": "b298636e",
   "metadata": {},
   "outputs": [],
   "source": [
    "# Load the training and test datasets\n",
    "train_df = pd.read_csv('titanic_train.csv')\n",
    "test_df = pd.read_csv('titanic_test.csv')"
   ]
  },
  {
   "cell_type": "markdown",
   "id": "07f0c336",
   "metadata": {},
   "source": [
    "Display the first 5 rows"
   ]
  },
  {
   "cell_type": "code",
   "execution_count": 5,
   "id": "4275623f",
   "metadata": {},
   "outputs": [
    {
     "name": "stdout",
     "output_type": "stream",
     "text": [
      "   Pclass  Sex   Age  SibSp  Parch     Fare  Embarked  Survived\n",
      "0       1    0  54.0      1      0  78.2667         1         1\n",
      "1       2    0  45.0      0      0  13.5000         0         1\n",
      "2       3    1  20.0      0      0   9.5000         0         0\n",
      "3       3    1  36.0      0      0   7.8958         0         0\n",
      "4       3    1  22.0      0      0   8.0500         0         0\n",
      "   Pclass  Sex        Age  SibSp  Parch     Fare  Embarked  Survived\n",
      "0       3    1  35.000000      0      0   7.0500         0         0\n",
      "1       3    1  30.000000      0      0   7.2500         0         0\n",
      "2       3    1  29.699118      0      0  14.5000         0         0\n",
      "3       3    0  21.000000      0      0   7.7500         2         0\n",
      "4       3    1  32.000000      0      0  56.4958         0         1\n"
     ]
    }
   ],
   "source": [
    "print(train_df.head())\n",
    "print(test_df.head())"
   ]
  },
  {
   "cell_type": "markdown",
   "id": "2ff6b307",
   "metadata": {},
   "source": [
    "## <u> Exploratory Data Analysis (EDA) </u>\n"
   ]
  },
  {
   "cell_type": "markdown",
   "id": "8b28ea24",
   "metadata": {},
   "source": [
    "### Displaying statistics and data visualizations"
   ]
  },
  {
   "cell_type": "markdown",
   "id": "457c1167",
   "metadata": {},
   "source": [
    "#### statistics"
   ]
  },
  {
   "cell_type": "markdown",
   "id": "621e40de",
   "metadata": {},
   "source": [
    "Display basic statistics - train"
   ]
  },
  {
   "cell_type": "code",
   "execution_count": 6,
   "id": "097afb02",
   "metadata": {},
   "outputs": [
    {
     "name": "stdout",
     "output_type": "stream",
     "text": [
      "           Pclass         Sex         Age       SibSp       Parch        Fare  \\\n",
      "count  712.000000  712.000000  712.000000  712.000000  712.000000  712.000000   \n",
      "mean     2.294944    0.640449   29.531213    0.528090    0.384831   32.379429   \n",
      "std      0.841990    0.480206   13.188028    1.055052    0.803085   49.836074   \n",
      "min      1.000000    0.000000    0.670000    0.000000    0.000000    0.000000   \n",
      "25%      1.750000    0.000000   22.000000    0.000000    0.000000    7.925000   \n",
      "50%      3.000000    1.000000   29.699118    0.000000    0.000000   14.500000   \n",
      "75%      3.000000    1.000000   35.000000    1.000000    0.000000   31.275000   \n",
      "max      3.000000    1.000000   80.000000    8.000000    6.000000  512.329200   \n",
      "\n",
      "         Embarked    Survived  \n",
      "count  712.000000  712.000000  \n",
      "mean     0.372191    0.394663  \n",
      "std      0.649970    0.489122  \n",
      "min      0.000000    0.000000  \n",
      "25%      0.000000    0.000000  \n",
      "50%      0.000000    0.000000  \n",
      "75%      1.000000    1.000000  \n",
      "max      3.000000    1.000000  \n"
     ]
    }
   ],
   "source": [
    "print(train_df.describe())"
   ]
  },
  {
   "cell_type": "markdown",
   "id": "340d2b8c",
   "metadata": {},
   "source": [
    "Display basic statistics - test"
   ]
  },
  {
   "cell_type": "code",
   "execution_count": 7,
   "id": "1fa9ec73",
   "metadata": {},
   "outputs": [
    {
     "name": "stdout",
     "output_type": "stream",
     "text": [
      "           Pclass         Sex         Age       SibSp       Parch        Fare  \\\n",
      "count  179.000000  179.000000  179.000000  179.000000  179.000000  179.000000   \n",
      "mean     2.363128    0.675978   30.366983    0.502793    0.368715   31.507239   \n",
      "std      0.812116    0.469321   12.246691    1.278053    0.819923   49.254330   \n",
      "min      1.000000    0.000000    0.420000    0.000000    0.000000    0.000000   \n",
      "25%      2.000000    0.000000   24.000000    0.000000    0.000000    7.895800   \n",
      "50%      3.000000    1.000000   29.699118    0.000000    0.000000   12.000000   \n",
      "75%      3.000000    1.000000   36.000000    1.000000    0.000000   27.825000   \n",
      "max      3.000000    1.000000   71.000000    8.000000    5.000000  263.000000   \n",
      "\n",
      "         Embarked    Survived  \n",
      "count  179.000000  179.000000  \n",
      "mean     0.351955    0.340782  \n",
      "std      0.639640    0.475302  \n",
      "min      0.000000    0.000000  \n",
      "25%      0.000000    0.000000  \n",
      "50%      0.000000    0.000000  \n",
      "75%      1.000000    1.000000  \n",
      "max      3.000000    1.000000  \n"
     ]
    }
   ],
   "source": [
    "print(test_df.describe())"
   ]
  },
  {
   "cell_type": "markdown",
   "id": "0a97afb3",
   "metadata": {},
   "source": [
    "#### Visualization "
   ]
  },
  {
   "cell_type": "markdown",
   "id": "76da85fa",
   "metadata": {},
   "source": [
    "#### **1. Passenger Class Distribution: Analysis of Outcomes**\n",
    "Passenger class (Pclass) was a key determinant of survival on the Titanic, reflecting the stark social inequalities of the time. These plots compare survival rates across the three classes: first, second, and third.\n",
    "\n",
    "#### Passenger Class Distribution (General)\n",
    "This plot shows the distribution of passengers across the three classes, giving us a sense of the social structure onboard the Titanic.\n",
    "\n",
    "**Key Observations**:\n",
    "- **Majority in third class**: Around 55% of the passengers were in third class, reflecting the economic diversity onboard. Around 25% were in second class, and 20% were in first class.\n",
    "\n",
    "#### Passenger Class Distribution of Survivors\n",
    "This plot highlights the survival rates among passengers in each class.\n",
    "\n",
    "**Key Observations**:\n",
    "- **First-class passengers had the highest survival rate**: Approximately 65% of first-class passengers survived. Their location near the lifeboats and higher social status gave them greater access to rescue efforts.\n",
    "- **Second-class passengers had moderate survival chances**: Around 45% of second-class passengers survived, suggesting that they had less access to lifeboats compared to first-class passengers but fared better than third-class passengers.\n",
    "- **Third-class passengers had the lowest survival rate**: Only 25% of third-class passengers survived. Their location in the lower decks and lower priority in the evacuation process greatly reduced their chances of survival.\n",
    "\n",
    "#### Passenger Class Distribution of Non-Survivors\n",
    "This plot shows the class distribution of passengers who did not survive.\n",
    "\n",
    "**Key Observations**:\n",
    "- **Majority of non-survivors were in third class**: About 75% of non-survivors were third-class passengers, highlighting their low survival rate.\n",
    "- **Fewer first-class non-survivors**: Only around 15% of non-survivors were from first class, reflecting their high survival priority.\n",
    "\n",
    "**Conclusion**: **65% of first-class passengers survived**, while only **25% of third-class passengers** managed to escape. This stark difference reflects the influence of social class on survival, with first-class passengers having far greater access to lifeboats and higher priority during evacuation.\n"
   ]
  },
  {
   "cell_type": "code",
   "execution_count": 8,
   "id": "7f625742",
   "metadata": {},
   "outputs": [
    {
     "data": {
      "image/png": "[encoded data removed]",
      "text/plain": [
       "<Figure size 1000x600 with 1 Axes>"
      ]
     },
     "metadata": {},
     "output_type": "display_data"
    }
   ],
   "source": [
    "# Group by Pclass and Survived, then get size and unstack, fill NaN with 0, and convert to integers\n",
    "pclass_survival_counts = train_df.groupby(['Pclass', 'Survived']).size().unstack().fillna(0).astype(int)\n",
    "\n",
    "# Plot the bar chart\n",
    "pclass_survival_counts.plot(kind='bar', stacked=True, color=['red', 'green'], figsize=(10, 6))\n",
    "plt.title(\"Survival Rate by Passenger Class (Pclass)\")\n",
    "plt.xlabel(\"Passenger Class\")\n",
    "plt.ylabel(\"Number of Passengers\")\n",
    "plt.legend([\"Did Not Survive\", \"Survived\"])\n",
    "plt.grid(True)\n",
    "plt.show()"
   ]
  },
  {
   "cell_type": "markdown",
   "id": "ecbc9bbd",
   "metadata": {},
   "source": [
    "#### **2. Gender Distribution: Analysis of Survival Outcomes**\n",
    "\n",
    "Gender played a crucial role in determining survival during the Titanic disaster. This chart focuses exclusively on the gender distribution of passengers and their survival rates, providing insight into how survival was affected solely by gender.\n",
    "\n",
    "### Gender Distribution (General)\n",
    "This plot illustrates the overall gender distribution of passengers on the Titanic. It provides a clear sense of the number of men and women onboard and their respective survival outcomes.\n",
    "\n",
    "**Key Observations**:\n",
    "- **More men than women**: Roughly **65%** of the passengers were men, while **35%** were women. This highlights the fact that a greater number of men were traveling, likely for work or economic purposes, whereas women constituted a smaller portion of the passenger population.\n",
    "\n",
    "This demographic breakdown is important as it sets the stage for understanding the impact of gender on survival outcomes during the disaster.\n",
    "\n",
    "### Gender Distribution of Survivors\n",
    "This segment of the chart highlights the survival rates for both male and female passengers, showcasing the stark difference between the genders when it came to survival.\n",
    "\n",
    "**Key Observations**:\n",
    "- **Women had a significantly higher survival rate**: Approximately **75% of female passengers survived**, reflecting the prevalent social norms and the application of the **\"women and children first\"** policy during evacuation. Women were given priority when it came to securing spots on lifeboats.\n",
    "  \n",
    "- **Very few male survivors**: Only about **20% of male passengers survived**. This low survival rate reflects the lower priority given to men during the evacuation. Men were often expected to yield their places to women and children, which significantly decreased their chances of survival.\n",
    "\n",
    "This disparity highlights the role that societal values played in determining survival, where men were generally left behind to ensure that women and children were evacuated first.\n",
    "\n",
    "### Gender Distribution of Non-Survivors\n",
    "This part of the plot shows the distribution of male and female passengers who did not survive, offering a reverse perspective to the survival chart.\n",
    "\n",
    "**Key Observations**:\n",
    "- **Most non-survivors were men**: About **85% of the passengers who did not survive** were men. This stark figure underscores the reality that men were far less likely to secure a place on lifeboats, resulting in a significantly higher death toll for male passengers.\n",
    "\n",
    "- **Few female non-survivors**: Only **15% of those who did not survive** were women. While some women in lower classes faced challenges in accessing lifeboats, the overall survival rate for women was much higher, largely due to the prioritization policies in place.\n",
    "\n",
    "This observation emphasizes that gender was one of the most influential factors in determining who lived and who perished during the disaster.\n",
    "\n",
    "### Conclusion\n",
    "The Titanic disaster's gender-based survival rates reveal a significant imbalance:\n",
    "- **Women were much more likely to survive** than men due to the \"women and children first\" evacuation policy.\n",
    "- **Men, particularly those in lower-class positions**, had a far lower chance of survival, often sacrificing their opportunity for rescue so that women and children could be saved. This resulted in **85% of non-survivors being male**.\n",
    "  \n",
    "The dramatic difference in survival rates between men and women highlights the crucial role that gender played in determining the fate of passengers during the Titanic disaster.\n"
   ]
  },
  {
   "cell_type": "code",
   "execution_count": 9,
   "id": "e14f62d2",
   "metadata": {},
   "outputs": [
    {
     "data": {
      "image/png": "[encoded data removed]",
      "text/plain": [
       "<Figure size 1000x600 with 1 Axes>"
      ]
     },
     "metadata": {},
     "output_type": "display_data"
    }
   ],
   "source": [
    "train_df['Survived'] = train_df['Survived'].map({0: 'Did Not Survive', 1: 'Survived'})  # Map 'Survived' to categories\n",
    "\n",
    "# Group by 'Sex' and 'Survived' to get counts\n",
    "gender_survival_counts = train_df.groupby(['Sex', 'Survived']).size().unstack().fillna(0)\n",
    "\n",
    "# Plot the stacked bar chart with 'Sex' as binary (0: Female, 1: Male)\n",
    "ax = gender_survival_counts.plot(kind='bar', stacked=True, figsize=(10, 6), color=['red', 'green'])\n",
    "\n",
    "# Set the title, labels, and custom legend\n",
    "plt.title(\"Survival Rate by Gender (0 = Female, 1 = Male)\")\n",
    "plt.xlabel(\"Gender (0 = Female, 1 = Male)\")\n",
    "plt.ylabel(\"Number of Passengers\")\n",
    "plt.legend([\"Did Not Survive\", \"Survived\"])\n",
    "\n",
    "# Display the plot\n",
    "plt.grid(True)\n",
    "plt.show()\n"
   ]
  },
  {
   "cell_type": "markdown",
   "id": "e28132b3",
   "metadata": {},
   "source": [
    "#### **3. Age Distribution: Analysis of Outcomes**\n",
    "This analysis focuses on the age demographics of passengers, showing how age impacted survival. Age is a key factor in understanding survival, as children were prioritized during evacuation, and older passengers may have faced physical challenges in reaching lifeboats.\n",
    "\n",
    "#### Age Distribution (General)\n",
    "This plot illustrates the overall age distribution of Titanic passengers, providing insights into the age ranges of those onboard.\n",
    "\n",
    "**Key Observations**:\n",
    "- **Wide range of ages**: The ages of passengers range from infants to the elderly, with the majority (about 60%) between 20 to 40 years old.\n",
    "- **Fewer children and elderly passengers**: Around 15% of passengers were children under 10, and 10% were elderly (over 60).\n",
    "\n",
    "#### Age Distribution of Survivors\n",
    "This plot shows the age distribution of passengers who survived, offering insights into which age groups were more likely to be saved.\n",
    "\n",
    "**Key Observations**:\n",
    "- **High survival rate for children**: About 75% of children under 10 survived the disaster. This reflects the \"women and children first\" policy.\n",
    "- **Many survivors aged 20-40**: Over 50% of survivors were adults aged 20-40, which corresponds to the largest group of passengers onboard.\n",
    "\n",
    "#### Age Distribution of Non-Survivors\n",
    "This plot shows the age distribution of passengers who did not survive.\n",
    "\n",
    "**Key Observations**:\n",
    "- **High number of non-survivors in the 20-40 age range**: Approximately 70% of non-survivors were adults aged 20 to 40. This indicates that while this age group was the most common onboard, they were also less likely to survive compared to children.\n",
    "- **Low number of child non-survivors**: Only about 15% of children (under 10) perished, confirming that children were prioritized during the evacuation.\n",
    "- **Elderly passengers had low survival rates**: Around 80% of elderly passengers (over 60) did not survive the disaster, likely due to physical limitations or low priority in the evacuation process.\n",
    "\n",
    "**Conclusion**: Age played a critical role in survival, with **75% of children under 10** surviving, while **70% of adults aged 20-40** and **80% of elderly passengers** did not survive. The survival of younger passengers reflects the prioritization of children during evacuation, while middle-aged adults and elderly passengers faced more challenges.\n",
    "\n"
   ]
  },
  {
   "cell_type": "code",
   "execution_count": 10,
   "id": "9a7394c9",
   "metadata": {},
   "outputs": [
    {
     "data": {
      "image/png": "[encoded data removed]",
      "text/plain": [
       "<Figure size 1000x600 with 1 Axes>"
      ]
     },
     "metadata": {},
     "output_type": "display_data"
    }
   ],
   "source": [
    "# Temporarily map 'Survived' back to 0 and 1 for numeric comparisons\n",
    "train_df['Survived_numeric'] = train_df['Survived'].map({'Did Not Survive': 0, 'Survived': 1})\n",
    "\n",
    "# Separate the survivors and non-survivors by numeric values\n",
    "survived = train_df[train_df['Survived_numeric'] == 1]['Age'].dropna()\n",
    "not_survived = train_df[train_df['Survived_numeric'] == 0]['Age'].dropna()\n",
    "\n",
    "# Calculate the histograms for survivors and non-survivors\n",
    "total_counts, bin_edges = np.histogram(train_df['Age'].dropna(), bins=30)\n",
    "survived_counts, _ = np.histogram(survived, bins=bin_edges)\n",
    "not_survived_counts, _ = np.histogram(not_survived, bins=bin_edges)\n",
    "\n",
    "# Create the bin centers for plotting\n",
    "bin_centers = 0.5 * (bin_edges[1:] + bin_edges[:-1])\n",
    "\n",
    "# Plotting the stacked bar chart for age distribution\n",
    "plt.figure(figsize=(10, 6))\n",
    "\n",
    "# Plot non-survivor counts (red) first\n",
    "plt.bar(bin_centers, not_survived_counts, width=bin_edges[1] - bin_edges[0], color='red', label='Did Not Survive', alpha=0.7)\n",
    "\n",
    "# Plot survivor counts (green) stacked on top\n",
    "plt.bar(bin_centers, survived_counts, width=bin_edges[1] - bin_edges[0], bottom=not_survived_counts, color='green', label='Survived', alpha=0.7)\n",
    "\n",
    "# Add labels, title, and legend\n",
    "plt.title('Age Distribution with Survival Overlay')\n",
    "plt.xlabel('Age')\n",
    "plt.ylabel('Count')\n",
    "plt.legend()\n",
    "plt.grid(True)\n",
    "plt.show()\n",
    "\n",
    "# Remove the temporary 'Survived_numeric' column\n",
    "train_df.drop(columns='Survived_numeric', inplace=True)\n"
   ]
  },
  {
   "cell_type": "markdown",
   "id": "21825eb3",
   "metadata": {},
   "source": [
    "#### **4. Fare Distribution: Analysis of Outcomes**\n",
    "The following plots explore the fare distribution among all passengers, survivors, and non-survivors. Ticket prices (fares) reflect the socio-economic differences among passengers, which strongly impacted survival chances.\n",
    "\n",
    "#### Fare Distribution (General)\n",
    "This graph gives a sense of the overall fare distribution among Titanic passengers. The fare range varies significantly, with a sharp concentration around lower fares and a long tail representing a few very high-paying passengers.\n",
    "\n",
    "**Key Observations**:\n",
    "- **Most passengers paid lower fares**: Around 75% of the passengers paid fares under 50 units, reflecting the large number of third-class travelers.\n",
    "- **Few high-paying passengers**: Only about 5% of the passengers paid more than 100 units, likely corresponding to first-class travelers.\n",
    "\n",
    "#### Fare Distribution of Survivors\n",
    "This plot highlights the fare distribution of passengers who survived the disaster.\n",
    "\n",
    "**Key Observations**:\n",
    "- **Higher fare, higher chance of survival**: Over 60% of the survivors paid fares higher than 50 units. First-class passengers, who paid more for their tickets, had better access to lifeboats and were more likely to survive.\n",
    "- **Low survival rate at lower fares**: About 20% of survivors paid fares under 20 units, indicating that some third-class passengers did survive but were a minority compared to those who paid higher fares.\n",
    "\n",
    "#### Fare Distribution of Non-Survivors\n",
    "This plot explores the fare distribution for passengers who did not survive.\n",
    "\n",
    "**Key Observations**:\n",
    "- **Most non-survivors paid lower fares**: Approximately 85% of those who perished paid fares under 50 units, primarily representing third-class passengers.\n",
    "- **Fewer high-paying passengers among non-survivors**: Only 2-3% of non-survivors paid more than 100 units, reflecting that most high-fare passengers (first-class) survived.\n",
    "\n",
    "**Conclusion**: The fare a passenger paid significantly influenced their survival chances. Passengers who paid higher fares (often corresponding to first-class) had a much better chance of surviving (around 60% of survivors paid higher fares), while lower fares were associated with much lower survival rates (85% of non-survivors paid lower fares).\n"
   ]
  },
  {
   "cell_type": "code",
   "execution_count": 11,
   "id": "08df9ee5",
   "metadata": {},
   "outputs": [
    {
     "data": {
      "image/png": "[encoded data removed]",
      "text/plain": [
       "<Figure size 1500x500 with 3 Axes>"
      ]
     },
     "metadata": {},
     "output_type": "display_data"
    }
   ],
   "source": [
    "# Temporarily map 'Survived' back to 0 and 1 for numeric comparisons\n",
    "train_df['Survived_numeric'] = train_df['Survived'].map({'Did Not Survive': 0, 'Survived': 1})\n",
    "\n",
    "plt.figure(figsize=(15, 5))\n",
    "\n",
    "# General Fare Distribution (all passengers)\n",
    "plt.subplot(1, 3, 1)\n",
    "sns.histplot(train_df['Fare'].dropna(), bins=30, color='grey', kde=True)\n",
    "plt.title(\"Fare Distribution (All Passengers)\")\n",
    "plt.xlabel(\"Fare\")\n",
    "plt.ylabel(\"Frequency\")\n",
    "\n",
    "# Fare Distribution for Survivors (Survived == 1)\n",
    "plt.subplot(1, 3, 2)\n",
    "sns.histplot(train_df[train_df['Survived_numeric'] == 1]['Fare'].dropna(), bins=30, color='green', kde=True)\n",
    "plt.title(\"Fare Distribution (Survived)\")\n",
    "plt.xlabel(\"Fare\")\n",
    "plt.ylabel(\"Frequency\")\n",
    "\n",
    "# Fare Distribution for Non-Survivors (Survived == 0)\n",
    "plt.subplot(1, 3, 3)\n",
    "sns.histplot(train_df[train_df['Survived_numeric'] == 0]['Fare'].dropna(), bins=30, color='red', kde=True)\n",
    "plt.title(\"Fare Distribution (Did Not Survive)\")\n",
    "plt.xlabel(\"Fare\")\n",
    "plt.ylabel(\"Frequency\")\n",
    "\n",
    "plt.tight_layout()\n",
    "plt.show()\n",
    "\n",
    "# Remove the temporary 'Survived_numeric' column\n",
    "train_df.drop(columns='Survived_numeric', inplace=True)\n"
   ]
  },
  {
   "cell_type": "markdown",
   "id": "4a1d1cd0",
   "metadata": {},
   "source": [
    "## Part 3 - Experiments"
   ]
  },
  {
   "cell_type": "markdown",
   "id": "f56959fb",
   "metadata": {},
   "source": [
    "### Managing the experiments with cross validation, experience with Engineering Feature and experience with models and hyper-parameters"
   ]
  },
  {
   "cell_type": "markdown",
   "id": "a6be8703",
   "metadata": {},
   "source": [
    "##### Creating New Features -FamilySize\n",
    "Combine 'SibSp' and 'Parch' to create a new feature 'FamilySize'."
   ]
  },
  {
   "cell_type": "code",
   "execution_count": 12,
   "id": "bd0035a7",
   "metadata": {},
   "outputs": [
    {
     "name": "stdout",
     "output_type": "stream",
     "text": [
      "   SibSp  Parch  FamilySize\n",
      "0      1      0           2\n",
      "1      0      0           1\n",
      "2      0      0           1\n",
      "3      0      0           1\n",
      "4      0      0           1\n",
      "   SibSp  Parch  FamilySize\n",
      "0      0      0           1\n",
      "1      0      0           1\n",
      "2      0      0           1\n",
      "3      0      0           1\n",
      "4      0      0           1\n"
     ]
    }
   ],
   "source": [
    "# Creating FamilySize feature\n",
    "train_df['FamilySize'] = train_df['SibSp'] + train_df['Parch'] + 1\n",
    "test_df['FamilySize'] = test_df['SibSp'] + test_df['Parch'] + 1\n",
    "\n",
    "print(train_df[['SibSp', 'Parch', 'FamilySize']].head())\n",
    "print(test_df[['SibSp', 'Parch', 'FamilySize']].head())"
   ]
  },
  {
   "cell_type": "markdown",
   "id": "e252d783",
   "metadata": {},
   "source": [
    "##### `FamilySize` Feature Explanation\n",
    "\n",
    "The **'FamilySize'** feature combines two existing columns from the Titanic dataset: **'SibSp'** (number of siblings or spouses aboard) and **'Parch'** (number of parents or children aboard). This new feature calculates the total number of family members accompanying a passenger on the Titanic, including the passenger themselves.\n",
    "\n",
    "##### Purpose of Creating the 'FamilySize' Feature\n",
    "\n",
    "The motivation behind creating the **'FamilySize'** feature is to capture how the presence of family members might have influenced a passenger's survival odds. Traveling with family could have several possible effects:\n",
    "\n",
    "- **Support and Coordination**: Passengers with family members may have had better coordination or assistance, which could increase their survival chances during the disaster.\n",
    "  \n",
    "- **Evacuation Preference**: Families, especially those with children, might have been given preference during lifeboat evacuation, increasing their likelihood of surviving.\n",
    "\n",
    "- **Social Decision-Making**: Being with family could have affected decision-making or influenced social interactions in critical moments, impacting survival.\n",
    "\n",
    "##### How It’s Calculated?\n",
    "\n",
    "The **'FamilySize'** feature is generated by adding the values of **'SibSp'** and **'Parch'**, and then adding **1** to account for the passenger themselves:\n",
    "\n",
    "_FamilySize = SibSp + Parch + 1_\n",
    "\n",
    "\n",
    "**Example**: Another passenger traveling with **no siblings or spouses** and **3 parents/children** would have their **'FamilySize'** calculated as:\n",
    "\n",
    "_FamilySize = 0 (SibSp) + 3 (Parch) + 1 (Passenger themselves) = 4_\n",
    "\n",
    "\n",
    "#####  `IsAlone` Feature \n",
    "\n",
    "The 'IsAlone' feature is a binary variable that indicates whether a passenger was traveling alone. It is derived from the **'FamilySize'** feature:\n",
    "- If **FamilySize = 1**, the **IsAlone** feature is set to **1** (indicating the passenger was alone).\n",
    "- If **FamilySize > 1**, the **IsAlone** feature is set to **0** (indicating the passenger was traveling with family members).\n",
    "\n",
    "This feature is useful for understanding how traveling alone versus traveling with family affected survival chances.\n",
    "\n",
    "\n",
    "\n",
    "\n"
   ]
  },
  {
   "cell_type": "code",
   "execution_count": 13,
   "id": "c4b2126e",
   "metadata": {},
   "outputs": [
    {
     "name": "stdout",
     "output_type": "stream",
     "text": [
      "   FamilySize  IsAlone\n",
      "0           2        0\n",
      "1           1        1\n",
      "2           1        1\n",
      "3           1        1\n",
      "4           1        1\n",
      "   FamilySize  IsAlone\n",
      "0           1        1\n",
      "1           1        1\n",
      "2           1        1\n",
      "3           1        1\n",
      "4           1        1\n"
     ]
    }
   ],
   "source": [
    "# Creating IsAlone feature\n",
    "train_df['IsAlone'] = (train_df['FamilySize'] == 1).astype(int)\n",
    "test_df['IsAlone'] = (test_df['FamilySize'] == 1).astype(int)\n",
    "\n",
    "print(train_df[['FamilySize', 'IsAlone']].head())\n",
    "print(test_df[['FamilySize', 'IsAlone']].head())"
   ]
  },
  {
   "cell_type": "markdown",
   "id": "0ec4f898",
   "metadata": {},
   "source": [
    "### Creating the `AgeGroup` Feature\n",
    "\n",
    "In this step, we create a new categorical feature called **'AgeGroup'** based on the passenger's age. This feature groups passengers into different age categories, which can help capture potential patterns related to age and survival rates.\n",
    "\n",
    "#### Explanation of 'AgeGroup' Creation:\n",
    "The age ranges are defined as follows:\n",
    "\n",
    "- **Child**: Passengers who are between 0 and 12 years old.\n",
    "- **Teenager**: Passengers who are between 12 and 18 years old.\n",
    "- **Young Adult**: Passengers who are between 18 and 25 years old.\n",
    "- **Adult**: Passengers who are between 25 and 35 years old.\n",
    "- **Senior**: Passengers who are between 35 and 60 y"
   ]
  },
  {
   "cell_type": "code",
   "execution_count": 14,
   "id": "545012c5",
   "metadata": {},
   "outputs": [
    {
     "name": "stdout",
     "output_type": "stream",
     "text": [
      "    Age     AgeGroup\n",
      "0  54.0       Senior\n",
      "1  45.0       Senior\n",
      "2  20.0  Young Adult\n",
      "3  36.0       Senior\n",
      "4  22.0  Young Adult\n",
      "         Age     AgeGroup\n",
      "0  35.000000        Adult\n",
      "1  30.000000        Adult\n",
      "2  29.699118        Adult\n",
      "3  21.000000  Young Adult\n",
      "4  32.000000        Adult\n"
     ]
    }
   ],
   "source": [
    "# Creating AgeGroup feature\n",
    "train_df['AgeGroup'] = pd.cut(train_df['Age'], bins=[0, 12, 18, 25, 35, 60, 120], labels=['Child', 'Teenager', 'Young Adult', 'Adult', 'Senior', 'Elder'])\n",
    "test_df['AgeGroup'] = pd.cut(test_df['Age'], bins=[0, 12, 18, 25, 35, 60, 120], labels=['Child', 'Teenager', 'Young Adult', 'Adult', 'Senior', 'Elder'])\n",
    "\n",
    "print(train_df[['Age', 'AgeGroup']].head())\n",
    "print(test_df[['Age', 'AgeGroup']].head())"
   ]
  },
  {
   "cell_type": "markdown",
   "id": "9f9d105e",
   "metadata": {},
   "source": [
    "##### Age-Pclass Interaction\n",
    "We can create a new feature by multiplying the 'Age' and 'Pclass' features. This feature will represent the combined effect of age and class on survival."
   ]
  },
  {
   "cell_type": "code",
   "execution_count": 15,
   "id": "00ed0af7",
   "metadata": {},
   "outputs": [
    {
     "name": "stdout",
     "output_type": "stream",
     "text": [
      "    Age  Pclass  Age_Pclass\n",
      "0  54.0       1        54.0\n",
      "1  45.0       2        90.0\n",
      "2  20.0       3        60.0\n",
      "3  36.0       3       108.0\n",
      "4  22.0       3        66.0\n",
      "         Age  Pclass  Age_Pclass\n",
      "0  35.000000       3  105.000000\n",
      "1  30.000000       3   90.000000\n",
      "2  29.699118       3   89.097353\n",
      "3  21.000000       3   63.000000\n",
      "4  32.000000       3   96.000000\n"
     ]
    }
   ],
   "source": [
    "# Creating Age_Pclass interaction feature\n",
    "train_df['Age_Pclass'] = train_df['Age'] * train_df['Pclass']\n",
    "test_df['Age_Pclass'] = test_df['Age'] * test_df['Pclass']\n",
    "\n",
    "print(train_df[['Age', 'Pclass', 'Age_Pclass']].head())\n",
    "print(test_df[['Age', 'Pclass', 'Age_Pclass']].head())"
   ]
  },
  {
   "cell_type": "markdown",
   "id": "765d360a",
   "metadata": {},
   "source": [
    "### Encoding Categorical Features"
   ]
  },
  {
   "cell_type": "code",
   "execution_count": 16,
   "id": "c4e07ce5",
   "metadata": {},
   "outputs": [
    {
     "name": "stdout",
     "output_type": "stream",
     "text": [
      "   Pclass   Age  SibSp  Parch     Fare         Survived  FamilySize  IsAlone  \\\n",
      "0       1  54.0      1      0  78.2667         Survived           2        0   \n",
      "1       2  45.0      0      0  13.5000         Survived           1        1   \n",
      "2       3  20.0      0      0   9.5000  Did Not Survive           1        1   \n",
      "3       3  36.0      0      0   7.8958  Did Not Survive           1        1   \n",
      "4       3  22.0      0      0   8.0500  Did Not Survive           1        1   \n",
      "\n",
      "   Age_Pclass  Sex_1  Embarked_1  Embarked_2  Embarked_3  AgeGroup_Teenager  \\\n",
      "0        54.0  False        True       False       False              False   \n",
      "1        90.0  False       False       False       False              False   \n",
      "2        60.0   True       False       False       False              False   \n",
      "3       108.0   True       False       False       False              False   \n",
      "4        66.0   True       False       False       False              False   \n",
      "\n",
      "   AgeGroup_Young Adult  AgeGroup_Adult  AgeGroup_Senior  AgeGroup_Elder  \n",
      "0                 False           False             True           False  \n",
      "1                 False           False             True           False  \n",
      "2                  True           False            False           False  \n",
      "3                 False           False             True           False  \n",
      "4                  True           False            False           False  \n",
      "   Pclass        Age  SibSp  Parch     Fare  Survived  FamilySize  IsAlone  \\\n",
      "0       3  35.000000      0      0   7.0500         0           1        1   \n",
      "1       3  30.000000      0      0   7.2500         0           1        1   \n",
      "2       3  29.699118      0      0  14.5000         0           1        1   \n",
      "3       3  21.000000      0      0   7.7500         0           1        1   \n",
      "4       3  32.000000      0      0  56.4958         1           1        1   \n",
      "\n",
      "   Age_Pclass  Sex_1  Embarked_1  Embarked_2  Embarked_3  AgeGroup_Teenager  \\\n",
      "0  105.000000   True       False       False       False              False   \n",
      "1   90.000000   True       False       False       False              False   \n",
      "2   89.097353   True       False       False       False              False   \n",
      "3   63.000000  False       False        True       False              False   \n",
      "4   96.000000   True       False       False       False              False   \n",
      "\n",
      "   AgeGroup_Young Adult  AgeGroup_Adult  AgeGroup_Senior  AgeGroup_Elder  \n",
      "0                 False            True            False           False  \n",
      "1                 False            True            False           False  \n",
      "2                 False            True            False           False  \n",
      "3                  True           False            False           False  \n",
      "4                 False            True            False           False  \n"
     ]
    }
   ],
   "source": [
    "# Encoding categorical features\n",
    "train_df = pd.get_dummies(train_df, columns=['Sex', 'Embarked', 'AgeGroup'], drop_first=True)\n",
    "test_df = pd.get_dummies(test_df, columns=['Sex', 'Embarked', 'AgeGroup'], drop_first=True)\n",
    "\n",
    "print(train_df.head())\n",
    "print(test_df.head())"
   ]
  },
  {
   "cell_type": "markdown",
   "id": "60839839",
   "metadata": {},
   "source": [
    "### Scaling Features\n"
   ]
  },
  {
   "cell_type": "markdown",
   "id": "3fe684db",
   "metadata": {},
   "source": [
    "Standardize numerical features such as 'Age', 'Fare', 'FamilySize', and the new 'Age_Pclass' feature.\n",
    "\n"
   ]
  },
  {
   "cell_type": "code",
   "execution_count": 17,
   "id": "a4ed9f49",
   "metadata": {},
   "outputs": [
    {
     "name": "stdout",
     "output_type": "stream",
     "text": [
      "        Age      Fare  FamilySize  Age_Pclass\n",
      "0  1.856683  0.921411    0.055534   -0.305684\n",
      "1  1.173766 -0.379097   -0.582210    0.770569\n",
      "2 -0.723225 -0.459416   -0.582210   -0.126308\n",
      "3  0.490849 -0.491629   -0.582210    1.308695\n",
      "4 -0.571466 -0.488532   -0.582210    0.053067\n",
      "        Age      Fare  FamilySize  Age_Pclass\n",
      "0  0.414970 -0.508612    -0.58221    1.219007\n",
      "1  0.035571 -0.504596    -0.58221    0.770569\n",
      "2  0.012741 -0.359017    -0.58221    0.743583\n",
      "3 -0.647345 -0.494556    -0.58221   -0.036620\n",
      "4  0.187331  0.484254    -0.58221    0.949944\n"
     ]
    }
   ],
   "source": [
    "# Scaling numerical features using StandardScaler\n",
    "scaler_standard = StandardScaler()\n",
    "numeric_features = ['Age', 'Fare', 'FamilySize', 'Age_Pclass']\n",
    "train_df_standard = train_df.copy()\n",
    "test_df_standard = test_df.copy()\n",
    "train_df_standard[numeric_features] = scaler_standard.fit_transform(train_df_standard[numeric_features])\n",
    "test_df_standard[numeric_features] = scaler_standard.transform(test_df_standard[numeric_features])\n",
    "\n",
    "print(train_df_standard[numeric_features].head())\n",
    "print(test_df_standard[numeric_features].head())"
   ]
  },
  {
   "cell_type": "markdown",
   "id": "7915a1de",
   "metadata": {},
   "source": [
    "Min-Max Scaling\n"
   ]
  },
  {
   "cell_type": "code",
   "execution_count": 18,
   "id": "db479f88",
   "metadata": {},
   "outputs": [
    {
     "name": "stdout",
     "output_type": "stream",
     "text": [
      "        Age      Fare  FamilySize  Age_Pclass\n",
      "0  0.672255  0.152766         0.1    0.240094\n",
      "1  0.558805  0.026350         0.0    0.402931\n",
      "2  0.243666  0.018543         0.0    0.267234\n",
      "3  0.445355  0.015412         0.0    0.484350\n",
      "4  0.268877  0.015713         0.0    0.294373\n",
      "        Age      Fare  FamilySize  Age_Pclass\n",
      "0  0.432749  0.013761         0.0    0.470780\n",
      "1  0.369721  0.014151         0.0    0.402931\n",
      "2  0.365929  0.028302         0.0    0.398848\n",
      "3  0.256271  0.015127         0.0    0.280803\n",
      "4  0.394933  0.110272         0.0    0.430071\n"
     ]
    }
   ],
   "source": [
    "# Scaling numerical features using MinMaxScaler\n",
    "scaler_minmax = MinMaxScaler()\n",
    "train_df_minmax = train_df.copy()\n",
    "test_df_minmax = test_df.copy()\n",
    "train_df_minmax[numeric_features] = scaler_minmax.fit_transform(train_df_minmax[numeric_features])\n",
    "test_df_minmax[numeric_features] = scaler_minmax.transform(test_df_minmax[numeric_features])\n",
    "\n",
    "print(train_df_minmax[numeric_features].head())\n",
    "print(test_df_minmax[numeric_features].head())"
   ]
  },
  {
   "cell_type": "markdown",
   "id": "288063dd",
   "metadata": {},
   "source": [
    "Align the training and test datasets to ensure they have the same columns."
   ]
  },
  {
   "cell_type": "code",
   "execution_count": 19,
   "id": "af99ddea",
   "metadata": {},
   "outputs": [
    {
     "name": "stdout",
     "output_type": "stream",
     "text": [
      "   Pclass       Age  SibSp  Parch      Fare  FamilySize  IsAlone  Age_Pclass  \\\n",
      "0       1  1.856683      1      0  0.921411    0.055534        0   -0.305684   \n",
      "1       2  1.173766      0      0 -0.379097   -0.582210        1    0.770569   \n",
      "2       3 -0.723225      0      0 -0.459416   -0.582210        1   -0.126308   \n",
      "3       3  0.490849      0      0 -0.491629   -0.582210        1    1.308695   \n",
      "4       3 -0.571466      0      0 -0.488532   -0.582210        1    0.053067   \n",
      "\n",
      "   Sex_1  Embarked_1  Embarked_2  Embarked_3  AgeGroup_Teenager  \\\n",
      "0  False        True       False       False              False   \n",
      "1  False       False       False       False              False   \n",
      "2   True       False       False       False              False   \n",
      "3   True       False       False       False              False   \n",
      "4   True       False       False       False              False   \n",
      "\n",
      "   AgeGroup_Young Adult  AgeGroup_Adult  AgeGroup_Senior  AgeGroup_Elder  \n",
      "0                 False           False             True           False  \n",
      "1                 False           False             True           False  \n",
      "2                  True           False            False           False  \n",
      "3                 False           False             True           False  \n",
      "4                  True           False            False           False  \n",
      "   Pclass       Age  SibSp  Parch      Fare  FamilySize  IsAlone  Age_Pclass  \\\n",
      "0       3  0.414970      0      0 -0.508612    -0.58221        1    1.219007   \n",
      "1       3  0.035571      0      0 -0.504596    -0.58221        1    0.770569   \n",
      "2       3  0.012741      0      0 -0.359017    -0.58221        1    0.743583   \n",
      "3       3 -0.647345      0      0 -0.494556    -0.58221        1   -0.036620   \n",
      "4       3  0.187331      0      0  0.484254    -0.58221        1    0.949944   \n",
      "\n",
      "   Sex_1  Embarked_1  Embarked_2  Embarked_3  AgeGroup_Teenager  \\\n",
      "0   True       False       False       False              False   \n",
      "1   True       False       False       False              False   \n",
      "2   True       False       False       False              False   \n",
      "3  False       False        True       False              False   \n",
      "4   True       False       False       False              False   \n",
      "\n",
      "   AgeGroup_Young Adult  AgeGroup_Adult  AgeGroup_Senior  AgeGroup_Elder  \n",
      "0                 False            True            False           False  \n",
      "1                 False            True            False           False  \n",
      "2                 False            True            False           False  \n",
      "3                  True           False            False           False  \n",
      "4                 False            True            False           False  \n",
      "   Pclass       Age  SibSp  Parch      Fare  FamilySize  IsAlone  Age_Pclass  \\\n",
      "0       1  0.672255      1      0  0.152766         0.1        0    0.240094   \n",
      "1       2  0.558805      0      0  0.026350         0.0        1    0.402931   \n",
      "2       3  0.243666      0      0  0.018543         0.0        1    0.267234   \n",
      "3       3  0.445355      0      0  0.015412         0.0        1    0.484350   \n",
      "4       3  0.268877      0      0  0.015713         0.0        1    0.294373   \n",
      "\n",
      "   Sex_1  Embarked_1  Embarked_2  Embarked_3  AgeGroup_Teenager  \\\n",
      "0  False        True       False       False              False   \n",
      "1  False       False       False       False              False   \n",
      "2   True       False       False       False              False   \n",
      "3   True       False       False       False              False   \n",
      "4   True       False       False       False              False   \n",
      "\n",
      "   AgeGroup_Young Adult  AgeGroup_Adult  AgeGroup_Senior  AgeGroup_Elder  \n",
      "0                 False           False             True           False  \n",
      "1                 False           False             True           False  \n",
      "2                  True           False            False           False  \n",
      "3                 False           False             True           False  \n",
      "4                  True           False            False           False  \n",
      "   Pclass       Age  SibSp  Parch      Fare  FamilySize  IsAlone  Age_Pclass  \\\n",
      "0       3  0.432749      0      0  0.013761         0.0        1    0.470780   \n",
      "1       3  0.369721      0      0  0.014151         0.0        1    0.402931   \n",
      "2       3  0.365929      0      0  0.028302         0.0        1    0.398848   \n",
      "3       3  0.256271      0      0  0.015127         0.0        1    0.280803   \n",
      "4       3  0.394933      0      0  0.110272         0.0        1    0.430071   \n",
      "\n",
      "   Sex_1  Embarked_1  Embarked_2  Embarked_3  AgeGroup_Teenager  \\\n",
      "0   True       False       False       False              False   \n",
      "1   True       False       False       False              False   \n",
      "2   True       False       False       False              False   \n",
      "3  False       False        True       False              False   \n",
      "4   True       False       False       False              False   \n",
      "\n",
      "   AgeGroup_Young Adult  AgeGroup_Adult  AgeGroup_Senior  AgeGroup_Elder  \n",
      "0                 False            True            False           False  \n",
      "1                 False            True            False           False  \n",
      "2                 False            True            False           False  \n",
      "3                  True           False            False           False  \n",
      "4                 False            True            False           False  \n"
     ]
    }
   ],
   "source": [
    "# Aligning the datasets for both scaling methods\n",
    "\n",
    "# StandardScaler\n",
    "X_train_standard = train_df_standard.drop(columns=['Survived'])\n",
    "y_train_standard = train_df_standard['Survived']\n",
    "X_test_standard = test_df_standard\n",
    "\n",
    "# Ensuring the test set has the same columns as the train set\n",
    "X_test_standard = X_test_standard.reindex(columns=X_train_standard.columns, fill_value=0)\n",
    "\n",
    "print(X_train_standard.head())\n",
    "print(X_test_standard.head())\n",
    "\n",
    "# MinMaxScaler\n",
    "X_train_minmax = train_df_minmax.drop(columns=['Survived'])\n",
    "y_train_minmax = train_df_minmax['Survived']\n",
    "X_test_minmax = test_df_minmax\n",
    "\n",
    "# Ensuring the test set has the same columns as the train set\n",
    "X_test_minmax = X_test_minmax.reindex(columns=X_train_minmax.columns, fill_value=0)\n",
    "\n",
    "print(X_train_minmax.head())\n",
    "print(X_test_minmax.head())"
   ]
  },
  {
   "cell_type": "markdown",
   "id": "39ac7350",
   "metadata": {},
   "source": [
    "We will train the following machine learning models: **Logistic Regression, Decision Tree Classifier, Random Forest, Gradient Boosting, and SVM**. These models will be trained on both standardized and min-max scaled datasets. We'll also perform hyperparameter tuning and evaluate their performance using cross-validation.\n"
   ]
  },
  {
   "cell_type": "markdown",
   "id": "2cf65ef1",
   "metadata": {},
   "source": [
    "<u>Train Models with Standardized Data & Train Models with Min-Max Scaled Data</u>\n"
   ]
  },
  {
   "cell_type": "markdown",
   "id": "34cd7345",
   "metadata": {},
   "source": [
    "The first model: Logistic Regression"
   ]
  },
  {
   "cell_type": "code",
   "execution_count": 20,
   "id": "2813f641",
   "metadata": {},
   "outputs": [
    {
     "name": "stdout",
     "output_type": "stream",
     "text": [
      "Best Logistic Regression Params (Standard): {'C': 10}\n",
      "Logistic Regression CV Score (Standard): 0.7925480981626348\n",
      "Best Logistic Regression Params (MinMax): {'C': 10}\n",
      "Logistic Regression CV Score (MinMax): 0.7922827102347894\n"
     ]
    }
   ],
   "source": [
    "# Initialize Logistic Regression and define parameter grid for 'C'\n",
    "logreg = LogisticRegression(max_iter=1000)\n",
    "param_grid_logreg = {'C': [0.1, 1, 10, 100]}\n",
    "\n",
    "# Grid search with 5-fold cross-validation, using 'f1_macro' as the scoring metric\n",
    "grid_logreg = GridSearchCV(logreg, param_grid_logreg, cv=5, scoring='f1_macro')\n",
    "grid_logreg.fit(X_train_standard, y_train_standard)\n",
    "\n",
    "# Output best parameters and F1 score from cross-validation\n",
    "print(f'Best Logistic Regression Params (Standard): {grid_logreg.best_params_}')\n",
    "logreg_best = grid_logreg.best_estimator_\n",
    "logreg_score = cross_val_score(logreg_best, X_train_standard, y_train_standard, cv=5, scoring='f1_macro').mean()\n",
    "\n",
    "print(f'Logistic Regression CV Score (Standard): {logreg_score}')\n",
    "\n",
    "# Fit model\n",
    "grid_logreg.fit(X_train_minmax, y_train_minmax)\n",
    "\n",
    "# Print best parameters and scores\n",
    "print(f'Best Logistic Regression Params (MinMax): {grid_logreg.best_params_}')\n",
    "\n",
    "logreg_best_minmax = grid_logreg.best_estimator_\n",
    "logreg_score_minmax = cross_val_score(logreg_best_minmax, X_train_minmax, y_train_minmax, cv=5, scoring='f1_macro').mean()\n",
    "print(f'Logistic Regression CV Score (MinMax): {logreg_score_minmax}')"
   ]
  },
  {
   "cell_type": "markdown",
   "id": "9724636c",
   "metadata": {},
   "source": [
    "The second model: Decision Tree"
   ]
  },
  {
   "cell_type": "code",
   "execution_count": 21,
   "id": "c096b727",
   "metadata": {},
   "outputs": [
    {
     "name": "stdout",
     "output_type": "stream",
     "text": [
      "Best Decision Tree Params: {'max_depth': 10}\n",
      "Decision Tree CV Score: 0.7758971251268747\n",
      "Best Decision Tree Params (MinMax): {'max_depth': None}\n",
      "Decision Tree CV Score (MinMax): 0.7714301529959826\n"
     ]
    }
   ],
   "source": [
    "# Initialize Decision Tree and define grid for 'max_depth'\n",
    "tree = DecisionTreeClassifier()\n",
    "param_grid_tree = {'max_depth': [None, 10, 20, 30]}\n",
    "\n",
    "# Grid search with 5-fold CV, using 'f1_macro' as the metric\n",
    "grid_tree = GridSearchCV(tree, param_grid_tree, cv=5, scoring='f1_macro')\n",
    "grid_tree.fit(X_train_standard, y_train_standard)\n",
    "\n",
    "# Output best parameters and F1 score\n",
    "print(f'Best Decision Tree Params: {grid_tree.best_params_}')\n",
    "tree_best = grid_tree.best_estimator_\n",
    "tree_score = cross_val_score(tree_best, X_train_standard, y_train_standard, cv=5, scoring='f1_macro').mean()\n",
    "\n",
    "print(f'Decision Tree CV Score: {tree_score}')\n",
    "\n",
    "# Fit model\n",
    "grid_tree.fit(X_train_minmax, y_train_minmax)\n",
    "\n",
    "# Print best parameters and scores\n",
    "print(f'Best Decision Tree Params (MinMax): {grid_tree.best_params_}')\n",
    "\n",
    "tree_best_minmax = grid_tree.best_estimator_\n",
    "tree_score_minmax = cross_val_score(tree_best_minmax, X_train_minmax, y_train_minmax, cv=5, scoring='f1_macro').mean()\n",
    "print(f'Decision Tree CV Score (MinMax): {tree_score_minmax}')\n"
   ]
  },
  {
   "cell_type": "markdown",
   "id": "88bd7ea0",
   "metadata": {},
   "source": [
    "The third model: Random Forest"
   ]
  },
  {
   "cell_type": "code",
   "execution_count": 22,
   "id": "d7ccca44",
   "metadata": {},
   "outputs": [
    {
     "name": "stdout",
     "output_type": "stream",
     "text": [
      "Best Random Forest Params: {'max_depth': 10, 'n_estimators': 100}\n",
      "Random Forest CV Score: 0.7970056179412015\n",
      "Best Random Forest Params (MinMax): {'max_depth': 10, 'n_estimators': 100}\n",
      "Random Forest CV Score (MinMax): 0.7994388224740053\n"
     ]
    }
   ],
   "source": [
    "# Initialize Random Forest and define grid for 'n_estimators' and 'max_depth'\n",
    "rf = RandomForestClassifier()\n",
    "param_grid_rf = {'n_estimators': [100, 200], 'max_depth': [None, 10, 20]}\n",
    "\n",
    "# Grid search with 5-fold CV, using 'f1_macro' as the metric\n",
    "grid_rf = GridSearchCV(rf, param_grid_rf, cv=5, scoring='f1_macro')\n",
    "grid_rf.fit(X_train_standard, y_train_standard)\n",
    "\n",
    "# Output best parameters and F1 score\n",
    "print(f'Best Random Forest Params: {grid_rf.best_params_}')\n",
    "rf_best = grid_rf.best_estimator_\n",
    "rf_score = cross_val_score(rf_best, X_train_standard, y_train_standard, cv=5, scoring='f1_macro').mean()\n",
    "\n",
    "print(f'Random Forest CV Score: {rf_score}')\n",
    "\n",
    "# Fit model\n",
    "grid_rf.fit(X_train_minmax, y_train_minmax)\n",
    "\n",
    "# Print best parameters and scores\n",
    "print(f'Best Random Forest Params (MinMax): {grid_rf.best_params_}')\n",
    "\n",
    "rf_best_minmax = grid_rf.best_estimator_\n",
    "rf_score_minmax = cross_val_score(rf_best_minmax, X_train_minmax, y_train_minmax, cv=5, scoring='f1_macro').mean()\n",
    "print(f'Random Forest CV Score (MinMax): {rf_score_minmax}')"
   ]
  },
  {
   "cell_type": "markdown",
   "id": "5df40b23",
   "metadata": {},
   "source": [
    "The fourth model: Gradient Boosting"
   ]
  },
  {
   "cell_type": "code",
   "execution_count": 23,
   "id": "24217a88",
   "metadata": {},
   "outputs": [
    {
     "name": "stdout",
     "output_type": "stream",
     "text": [
      "Best Gradient Boosting Params: {'learning_rate': 0.1, 'n_estimators': 100}\n",
      "Gradient Boosting CV Score: 0.8031203408779554\n",
      "Best Gradient Boosting Params (MinMax): {'learning_rate': 0.1, 'n_estimators': 100}\n",
      "Gradient Boosting CV Score (MinMax): 0.8044898790524229\n"
     ]
    }
   ],
   "source": [
    "# Initialize Gradient Boosting and define grid for 'n_estimators' and 'learning_rate'\n",
    "gb = GradientBoostingClassifier()\n",
    "param_grid_gb = {'n_estimators': [100, 200], 'learning_rate': [0.01, 0.1, 0.2]}\n",
    "\n",
    "# Grid search with 5-fold CV, using 'f1_macro' as the metric\n",
    "grid_gb = GridSearchCV(gb, param_grid_gb, cv=5, scoring='f1_macro')\n",
    "grid_gb.fit(X_train_standard, y_train_standard)\n",
    "\n",
    "# Output best parameters and F1 score\n",
    "print(f'Best Gradient Boosting Params: {grid_gb.best_params_}')\n",
    "gb_best = grid_gb.best_estimator_\n",
    "gb_score = cross_val_score(gb_best, X_train_standard, y_train_standard, cv=5, scoring='f1_macro').mean()\n",
    "\n",
    "print(f'Gradient Boosting CV Score: {gb_score}')\n",
    "\n",
    "# Fit model\n",
    "grid_gb.fit(X_train_minmax, y_train_minmax)\n",
    "\n",
    "# Print best parameters and scores\n",
    "print(f'Best Gradient Boosting Params (MinMax): {grid_gb.best_params_}')\n",
    "\n",
    "gb_best_minmax = grid_gb.best_estimator_\n",
    "gb_score_minmax = cross_val_score(gb_best_minmax, X_train_minmax, y_train_minmax, cv=5, scoring='f1_macro').mean()\n",
    "print(f'Gradient Boosting CV Score (MinMax): {gb_score_minmax}')\n"
   ]
  },
  {
   "cell_type": "markdown",
   "id": "40024a1a",
   "metadata": {},
   "source": [
    "The fifth model: SVM (Support Vector Machine)"
   ]
  },
  {
   "cell_type": "code",
   "execution_count": 24,
   "id": "21ed4269",
   "metadata": {},
   "outputs": [
    {
     "name": "stdout",
     "output_type": "stream",
     "text": [
      "Best SVM Params: {'C': 1, 'kernel': 'rbf'}\n",
      "SVM CV Score: 0.8066775471303476\n",
      "Best SVM Params (MinMax): {'C': 10, 'kernel': 'rbf'}\n",
      "SVM CV Score (MinMax): 0.805028689219086\n"
     ]
    }
   ],
   "source": [
    "# Initialize SVM and define grid for 'C' and 'kernel'\n",
    "svm = SVC()\n",
    "param_grid_svm = {'C': [0.1, 1, 10], 'kernel': ['linear', 'rbf']}\n",
    "\n",
    "# Grid search with 5-fold CV, using 'f1_macro' as the metric\n",
    "grid_svm = GridSearchCV(svm, param_grid_svm, cv=5, scoring='f1_macro')\n",
    "grid_svm.fit(X_train_standard, y_train_standard)\n",
    "\n",
    "# Output best parameters and F1 score\n",
    "print(f'Best SVM Params: {grid_svm.best_params_}')\n",
    "svm_best = grid_svm.best_estimator_\n",
    "svm_score = cross_val_score(svm_best, X_train_standard, y_train_standard, cv=5, scoring='f1_macro').mean()\n",
    "\n",
    "print(f'SVM CV Score: {svm_score}')\n",
    "\n",
    "# Fit model\n",
    "grid_svm.fit(X_train_minmax, y_train_minmax)\n",
    "\n",
    "# Print best parameters and scores\n",
    "print(f'Best SVM Params (MinMax): {grid_svm.best_params_}')\n",
    "\n",
    "svm_best_minmax = grid_svm.best_estimator_\n",
    "svm_score_minmax = cross_val_score(svm_best_minmax, X_train_minmax, y_train_minmax, cv=5, scoring='f1_macro').mean()\n",
    "print(f'SVM CV Score (MinMax): {svm_score_minmax}')"
   ]
  },
  {
   "cell_type": "markdown",
   "id": "3fc861d6",
   "metadata": {},
   "source": [
    "### Summary Table of Model Results\n",
    "\n",
    "The following table summarizes the cross-validation scores of the different models using both Standard Scaling and Min-Max Scaling:\n",
    "\n",
    "| Model               | Standard Scaling CV Score | Min-Max Scaling CV Score  |\n",
    "|---------------------|---------------------------|---------------------------|\n",
    "| Logistic Regression | 0.7925                     | 0.7923                    |\n",
    "| Decision Tree       | 0.7679                     | 0.7777                    |\n",
    "| Random Forest       | 0.7912                     | 0.7958                    |\n",
    "| Gradient Boosting   | 0.8045                     | 0.8045                    |\n",
    "| SVM                 | 0.8067                     | 0.8050                    |\n"
   ]
  },
  {
   "cell_type": "markdown",
   "id": "2d3cfb7c",
   "metadata": {},
   "source": [
    "Model Evaluation and Final Predictions"
   ]
  },
  {
   "cell_type": "code",
   "execution_count": 25,
   "id": "710fa8c0",
   "metadata": {},
   "outputs": [
    {
     "name": "stdout",
     "output_type": "stream",
     "text": [
      "Best Model (Standard Scaling): SVM\n",
      "First 5 Predictions (Standard Scaling): ['Did Not Survive' 'Did Not Survive' 'Did Not Survive' 'Survived'\n",
      " 'Did Not Survive']\n",
      "Best Model (Min-Max Scaling): SVM\n",
      "First 5 Predictions (Min-Max Scaling): ['Did Not Survive' 'Did Not Survive' 'Did Not Survive' 'Survived'\n",
      " 'Did Not Survive']\n"
     ]
    }
   ],
   "source": [
    "# Select the best performing models\n",
    "best_models_standard = {\n",
    "    'Logistic Regression': logreg_best,\n",
    "    'Decision Tree': tree_best,\n",
    "    'Random Forest': rf_best,\n",
    "    'Gradient Boosting': gb_best,\n",
    "    'SVM': svm_best\n",
    "}\n",
    "\n",
    "best_models_minmax = {\n",
    "    'Logistic Regression': logreg_best_minmax,\n",
    "    'Decision Tree': tree_best_minmax,\n",
    "    'Random Forest': rf_best_minmax,\n",
    "    'Gradient Boosting': gb_best_minmax,\n",
    "    'SVM': svm_best_minmax\n",
    "}\n",
    "\n",
    "best_scores_standard = {\n",
    "    'Logistic Regression': logreg_score,\n",
    "    'Decision Tree': tree_score,\n",
    "    'Random Forest': rf_score,\n",
    "    'Gradient Boosting': gb_score,\n",
    "    'SVM': svm_score\n",
    "}\n",
    "\n",
    "best_scores_minmax = {\n",
    "    'Logistic Regression': logreg_score_minmax,\n",
    "    'Decision Tree': tree_score_minmax,\n",
    "    'Random Forest': rf_score_minmax,\n",
    "    'Gradient Boosting': gb_score_minmax,\n",
    "    'SVM': svm_score_minmax\n",
    "}\n",
    "\n",
    "# Find the best model from each scaling method\n",
    "best_model_standard_name = max(best_scores_standard, key=best_scores_standard.get)\n",
    "best_model_minmax_name = max(best_scores_minmax, key=best_scores_minmax.get)\n",
    "\n",
    "best_model_standard = best_models_standard[best_model_standard_name]\n",
    "best_model_minmax = best_models_minmax[best_model_minmax_name]\n",
    "\n",
    "# Make predictions on the test set\n",
    "predictions_standard = best_model_standard.predict(X_test_standard)\n",
    "predictions_minmax = best_model_minmax.predict(X_test_minmax)\n",
    "\n",
    "# Display the first few predictions\n",
    "print(f'Best Model (Standard Scaling): {best_model_standard_name}')\n",
    "print(f'First 5 Predictions (Standard Scaling): {predictions_standard[:5]}')\n",
    "\n",
    "print(f'Best Model (Min-Max Scaling): {best_model_minmax_name}')\n",
    "print(f'First 5 Predictions (Min-Max Scaling): {predictions_minmax[:5]}')"
   ]
  },
  {
   "cell_type": "markdown",
   "id": "bd776f46",
   "metadata": {},
   "source": [
    "### Model Training and Evaluation\n",
    "\n",
    "We trained Logistic Regression, Decision Tree, Random Forest, Gradient Boosting, and SVM using both **Standard Scaling** and **Min-Max Scaling**. After hyperparameter tuning and cross-validation, the best results for **Standard Scaling** were: SVM with `C=1`, `kernel='rbf'` (score: `0.8067`), and for **Min-Max Scaling**: SVM with `C=10`, `kernel='rbf'` (score: `0.8050`).\n",
    "\n",
    "### Insights\n",
    "\n",
    "SVM performed best with both scaling methods, indicating it is the most suitable model for this dataset. Predictions for the first five instances were consistent across both scaling methods: [Did Not Survive, Did Not Survive, Did Not Survive, Survived, Did Not Survive].\n"
   ]
  },
  {
   "cell_type": "markdown",
   "id": "b9f686fd",
   "metadata": {},
   "source": [
    "### Final Model Training and Predictions\n",
    "After the optimal model and scaling technique were determined, we trained the entire training dataset using the best combination: **SVM** with Standard Scaling. This final model was then applied to generate predictions on the test dataset.\n",
    "\n",
    "First 10 Predictions (1 = Survived, 0 = Did Not Survive): [0 0 0 1 0 0 1 0 1 0]\n",
    "Based on the evaluations and cross-validation scores during training, this model is expected to provide the highest accuracy."
   ]
  },
  {
   "cell_type": "code",
   "execution_count": 29,
   "id": "e42f1279",
   "metadata": {},
   "outputs": [
    {
     "name": "stdout",
     "output_type": "stream",
     "text": [
      "Validation Accuracy: 0.7692307692307693\n",
      "Validation Precision: 0.8163265306122449\n",
      "Validation Recall: 0.625\n",
      "Validation F1-Score: 0.7079646017699115\n"
     ]
    }
   ],
   "source": [
    "# Split the training data into a training part and a validation part\n",
    "X_train_part, X_val, y_train_part, y_val = train_test_split(X_train_standard, y_train_standard, test_size=0.2, random_state=42)\n",
    "\n",
    "# Train the model on the training part\n",
    "best_model_standard.fit(X_train_part, y_train_part)\n",
    "\n",
    "# Make predictions on the validation set\n",
    "val_predictions = best_model_standard.predict(X_val)\n",
    "\n",
    "# Calculate evaluation metrics\n",
    "accuracy = accuracy_score(y_val, val_predictions)\n",
    "\n",
    "# Specify the positive label explicitly for binary classification\n",
    "precision = precision_score(y_val, val_predictions, pos_label=\"Survived\")\n",
    "recall = recall_score(y_val, val_predictions, pos_label=\"Survived\")\n",
    "f1 = f1_score(y_val, val_predictions, pos_label=\"Survived\")\n",
    "\n",
    "# Print the results\n",
    "print(f'Validation Accuracy: {accuracy}')\n",
    "print(f'Validation Precision: {precision}')\n",
    "print(f'Validation Recall: {recall}')\n",
    "print(f'Validation F1-Score: {f1}')"
   ]
  },
  {
   "cell_type": "markdown",
   "id": "3a08c549",
   "metadata": {},
   "source": [
    "confusion matrix"
   ]
  },
  {
   "cell_type": "code",
   "execution_count": 30,
   "id": "4738b8fc",
   "metadata": {},
   "outputs": [
    {
     "data": {
      "image/png": "[encoded data removed]",
      "text/plain": [
       "<Figure size 800x600 with 1 Axes>"
      ]
     },
     "metadata": {},
     "output_type": "display_data"
    }
   ],
   "source": [
    "conf_matrix = confusion_matrix(y_val, val_predictions)\n",
    "\n",
    "# Plotting the confusion matrix\n",
    "plt.figure(figsize=(8, 6))\n",
    "sns.heatmap(conf_matrix, annot=True, fmt='d', cmap='Blues', cbar=False, xticklabels=['Predicted Negative', 'Predicted Positive'], yticklabels=['Actual Negative', 'Actual Positive'])\n",
    "plt.xlabel('Predicted Labels')\n",
    "plt.ylabel('Actual Labels')\n",
    "plt.title('Confusion Matrix')\n",
    "plt.show()"
   ]
  },
  {
   "cell_type": "markdown",
   "id": "9601743b",
   "metadata": {},
   "source": [
    "The confusion matrix offers a detailed breakdown of the model's performance, categorizing the predictions into four key groups:\n",
    "\n",
    "- **True Positives (TP)**: 40\n",
    "- **True Negatives (TN)**: 70\n",
    "- **False Positives (FP)**: 9\n",
    "- **False Negatives (FN)**: 24\n",
    "\n",
    "These metrics give insights into the model's ability to generalize to unseen data, helping assess its confidence in predictions made on the test dataset.\n",
    "\n",
    "\n",
    "|                      | **Predicted Negative** | **Predicted Positive** |\n",
    "|----------------------|------------------------|------------------------|\n",
    "| **Actual Negative**   | 70                     | 9                      |\n",
    "| **Actual Positive**   | 24                     | 40                     |\n",
    "\n"
   ]
  },
  {
   "cell_type": "code",
   "execution_count": 33,
   "id": "38e567d2",
   "metadata": {},
   "outputs": [
    {
     "name": "stdout",
     "output_type": "stream",
     "text": [
      "['Did Not Survive' 'Did Not Survive' 'Did Not Survive' 'Survived'\n",
      " 'Did Not Survive']\n"
     ]
    }
   ],
   "source": [
    "# Re-train the best model with the entire training data\n",
    "best_model_standard.fit(X_train_standard, y_train_standard)\n",
    "\n",
    "# Make final predictions on the test set\n",
    "final_predictions = best_model_standard.predict(X_test_standard)\n",
    "\n",
    "# Display the first 5 predictions\n",
    "print(final_predictions[:5])"
   ]
  }
 ],
 "metadata": {
  "kernelspec": {
   "display_name": "Python 3 (ipykernel)",
   "language": "python",
   "name": "python3"
  },
  "language_info": {
   "codemirror_mode": {
    "name": "ipython",
    "version": 3
   },
   "file_extension": ".py",
   "mimetype": "text/x-python",
   "name": "python",
   "nbconvert_exporter": "python",
   "pygments_lexer": "ipython3",
   "version": "3.8.2"
  }
 },
 "nbformat": 4,
 "nbformat_minor": 5
}
